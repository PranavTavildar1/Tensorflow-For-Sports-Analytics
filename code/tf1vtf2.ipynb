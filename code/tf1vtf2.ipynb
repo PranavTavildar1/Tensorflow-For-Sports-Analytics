{
 "cells": [
  {
   "cell_type": "code",
   "execution_count": null,
   "metadata": {},
   "outputs": [],
   "source": [
    "import tensorflow as tf"
   ]
  },
  {
   "cell_type": "code",
   "execution_count": null,
   "metadata": {},
   "outputs": [],
   "source": [
    "# tfv1.disable_eager_execution() # we'll cover what this means\n",
    "# a = tfv1.constant(1)\n",
    "# b = tfv1.constant(2)\n",
    "# c = a + b\n",
    "# # What is c?\n",
    "# print(c)"
   ]
  },
  {
   "cell_type": "code",
   "execution_count": null,
   "metadata": {},
   "outputs": [],
   "source": [
    "# #To make the last line work, you have to run it like follows\n",
    "# with tfv1.Session() as sess:\n",
    "#     print(c.eval())"
   ]
  },
  {
   "cell_type": "code",
   "execution_count": null,
   "metadata": {},
   "outputs": [],
   "source": [
    "# #comment out tfv1.disable_eager_execution() and see what happens\n",
    "# a = tf.constant(1)\n",
    "# b = tf.constant(2)\n",
    "# c = a + b\n",
    "# # What is c?\n",
    "# print(c)"
   ]
  }
 ],
 "metadata": {
  "kernelspec": {
   "display_name": "Python 3.10.0 64-bit",
   "language": "python",
   "name": "python3"
  },
  "language_info": {
   "name": "python",
   "version": "3.10.0"
  },
  "orig_nbformat": 4,
  "vscode": {
   "interpreter": {
    "hash": "aee8b7b246df8f9039afb4144a1f6fd8d2ca17a180786b69acc140d282b71a49"
   }
  }
 },
 "nbformat": 4,
 "nbformat_minor": 2
}
